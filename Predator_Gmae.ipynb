{
 "cells": [
  {
   "cell_type": "markdown",
   "metadata": {},
   "source": [
    "Install Dependence："
   ]
  },
  {
   "cell_type": "code",
   "execution_count": 5,
   "metadata": {},
   "outputs": [
    {
     "name": "stdout",
     "output_type": "stream",
     "text": [
      "Requirement already satisfied: opencv-python in d:\\program files\\python311\\lib\\site-packages (4.7.0.68)\n",
      "Requirement already satisfied: numpy>=1.21.2 in d:\\program files\\python311\\lib\\site-packages (from opencv-python) (1.24.3)\n",
      "Note: you may need to restart the kernel to use updated packages.\n"
     ]
    },
    {
     "name": "stderr",
     "output_type": "stream",
     "text": [
      "WARNING: Ignoring invalid distribution ~orch (d:\\Program Files\\Python311\\Lib\\site-packages)\n",
      "WARNING: Ignoring invalid distribution ~orch (d:\\Program Files\\Python311\\Lib\\site-packages)\n"
     ]
    }
   ],
   "source": [
    "pip install opencv-python"
   ]
  },
  {
   "cell_type": "code",
   "execution_count": 4,
   "metadata": {},
   "outputs": [
    {
     "name": "stdout",
     "output_type": "stream",
     "text": [
      "Requirement already satisfied: pillow in d:\\program files\\python311\\lib\\site-packages (9.5.0)\n",
      "Note: you may need to restart the kernel to use updated packages.\n"
     ]
    },
    {
     "name": "stderr",
     "output_type": "stream",
     "text": [
      "WARNING: Ignoring invalid distribution ~orch (d:\\Program Files\\Python311\\Lib\\site-packages)\n",
      "WARNING: Ignoring invalid distribution ~orch (d:\\Program Files\\Python311\\Lib\\site-packages)\n"
     ]
    }
   ],
   "source": [
    "pip install pillow"
   ]
  },
  {
   "cell_type": "code",
   "execution_count": 6,
   "metadata": {},
   "outputs": [],
   "source": [
    "import numpy as np\n",
    "import cv2\n",
    "from PIL import Image\n",
    "import time\n",
    "import pickle\n",
    "import matplotlib.pyplot as plt\n",
    "from matplotlib import style\n",
    "style.use('ggplot')"
   ]
  },
  {
   "cell_type": "markdown",
   "metadata": {},
   "source": [
    "Setting parameter"
   ]
  },
  {
   "cell_type": "code",
   "execution_count": 7,
   "metadata": {},
   "outputs": [],
   "source": [
    "SIZE = 10 #环境空间大小\n",
    "EPISODE = 30000 #玩游戏的局数\n",
    "SHOW_EVERY = 3000\n",
    "#奖惩机制：\n",
    "FOOD_REWARD = 25\n",
    "ENEMY_PENALITY = 300 #碰到敌人惩罚\n",
    "MOVE_PENALITY = 1 #避免被敌人吃掉\n"
   ]
  },
  {
   "cell_type": "markdown",
   "metadata": {},
   "source": [
    "Training parameter Setting"
   ]
  },
  {
   "cell_type": "code",
   "execution_count": 8,
   "metadata": {},
   "outputs": [],
   "source": [
    "epsilon = 0.6 #动作抽取概率\n",
    "EPS_DECAY = 0.9998\n",
    "DISCOUNT = 0.95 #折扣汇报 本局游戏每下个动作回报分数折扣\n",
    "\n",
    "q_table = None\n",
    "d = {1:(255,0,0), #blue\n",
    "     2:(0,255,0), #green\n",
    "     3:(0,0,255)} #red \n",
    "\n",
    "PLAYER_N = 1\n",
    "FOOF_N = 2\n",
    "ENEMY = 3"
   ]
  },
  {
   "cell_type": "markdown",
   "metadata": {},
   "source": [
    "Game Entity Frame"
   ]
  },
  {
   "cell_type": "code",
   "execution_count": 15,
   "metadata": {},
   "outputs": [],
   "source": [
    "class Cube:\n",
    "    def __init__(self):\n",
    "        self.x = np.random.randint(0, SIZE) #random set player's x-axis\n",
    "        self.y = np.random.randint(0, SIZE) #random set player's y-axis\n",
    "\n",
    "    def __str__(self):\n",
    "        return f'{self.x},{self.y}'\n",
    "    \n",
    "    def __sub__(self,other):\n",
    "        return (self.x - other.x, self.y - other.y)\n",
    "    \n",
    "    def action(self,choice):\n",
    "        if choice == 0:\n",
    "            self.move(x=1, y=1)\n",
    "        elif choice == 1:\n",
    "            self.move(x=-1,y=1)\n",
    "        elif choice == 2:\n",
    "            self.move(x=1,y=-1)\n",
    "        elif choice == 3:\n",
    "            self.move(x=1,y=-1)\n",
    "\n",
    "    def move(self,x=False,y=False):\n",
    "        if not x:\n",
    "            self.x += np.randint(-1,2) #if x have not value, then randomly give a value from -1 to 1\n",
    "        else:\n",
    "            self.x += x\n",
    "        \n",
    "        if not y:\n",
    "            self.y += np.randint(-1,2) #if y have not value, then randomly give a value from -1 to 1\n",
    "        else:\n",
    "            self.y += y\n",
    "        \n",
    "        # boundary limitation\n",
    "        if self.x < 0:\n",
    "            self.x = 0\n",
    "        elif self.x >= SIZE:\n",
    "            self.x = SIZE - 1\n",
    "        \n",
    "        if self.y < 0:\n",
    "            self.y = 0\n",
    "        elif self.y >= SIZE:\n",
    "            self.y = SIZE - 1"
   ]
  },
  {
   "cell_type": "code",
   "execution_count": 13,
   "metadata": {},
   "outputs": [
    {
     "name": "stdout",
     "output_type": "stream",
     "text": [
      "4,8\n",
      "9,7\n",
      "(-5, 1)\n"
     ]
    }
   ],
   "source": [
    "player = Cube()\n",
    "print(player)\n",
    "food = Cube()\n",
    "print(food)\n",
    "print(player - food)"
   ]
  },
  {
   "cell_type": "code",
   "execution_count": null,
   "metadata": {},
   "outputs": [],
   "source": []
  }
 ],
 "metadata": {
  "kernelspec": {
   "display_name": "Python 3",
   "language": "python",
   "name": "python3"
  },
  "language_info": {
   "codemirror_mode": {
    "name": "ipython",
    "version": 3
   },
   "file_extension": ".py",
   "mimetype": "text/x-python",
   "name": "python",
   "nbconvert_exporter": "python",
   "pygments_lexer": "ipython3",
   "version": "3.11.3"
  }
 },
 "nbformat": 4,
 "nbformat_minor": 2
}
